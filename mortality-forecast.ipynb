{
 "cells": [
  {
   "metadata": {},
   "cell_type": "markdown",
   "source": "# Mortality Forecast",
   "id": "a9941cb42874a1b5"
  },
  {
   "metadata": {},
   "cell_type": "markdown",
   "source": "",
   "id": "a7d4658c17480206"
  },
  {
   "metadata": {},
   "cell_type": "markdown",
   "source": "## Importing Libraries",
   "id": "d17fa4e5695fef5d"
  },
  {
   "metadata": {
    "ExecuteTime": {
     "end_time": "2024-05-19T11:20:56.359609Z",
     "start_time": "2024-05-19T11:20:52.550306Z"
    }
   },
   "cell_type": "code",
   "source": [
    "import datetime\n",
    "import math\n",
    "import matplotlib.pyplot as plt\n",
    "import numpy as np\n",
    "import pandas as pd\n",
    "from sklearn.preprocessing import MinMaxScaler\n",
    "from sklearn.metrics import mean_squared_error\n",
    "import tensorflow as tf\n",
    "from tensorflow.keras import layers"
   ],
   "id": "52bd07de3409fe4a",
   "outputs": [],
   "execution_count": 1
  },
  {
   "metadata": {},
   "cell_type": "markdown",
   "source": "## Setting Environment",
   "id": "3f9345bcc1f37b13"
  },
  {
   "metadata": {
    "ExecuteTime": {
     "end_time": "2024-05-19T11:22:04.855771Z",
     "start_time": "2024-05-19T11:22:04.842243Z"
    }
   },
   "cell_type": "code",
   "source": [
    "TRAINING_SIZE = 49  # number of observations used for training\n",
    "WINDOW = 3  # the length of the sequence used for prediction\n",
    "CONDITIONAL_RNN = True  # whether we use conditional RNN (by gender and country)\n",
    "tf.random.set_seed(1918)"
   ],
   "id": "13c31f31d8bfad77",
   "outputs": [],
   "execution_count": 2
  },
  {
   "metadata": {},
   "cell_type": "markdown",
   "source": "## Data Preprocessing",
   "id": "c1b8a1ca2afce1"
  },
  {
   "metadata": {
    "ExecuteTime": {
     "end_time": "2024-05-19T11:27:15.212150Z",
     "start_time": "2024-05-19T11:27:15.041037Z"
    }
   },
   "cell_type": "code",
   "source": [
    "def read_data(filenames):\n",
    "    dataframes = []\n",
    "    for filename in filenames:\n",
    "        dataframes.append(\n",
    "            pd.read_csv(filename, header=1, sep=r'\\s+'))\n",
    "    return dataframes\n",
    "\n",
    "\n",
    "def long_to_wide(dataset):\n",
    "    dataset = dataset.melt(\n",
    "        id_vars=[\"Year\", \"Age\"], value_vars=[\"Male\", \"Female\"])\n",
    "    dataset = dataset.pivot(\n",
    "        columns=[\"Age\"], index=[\"Year\", \"variable\"], values=[\"value\"])\n",
    "    dataset = dataset.reset_index()\n",
    "    dataset[\"variable\"] = dataset[\"variable\"] == \"Female\"\n",
    "    dataset = dataset.astype('float')\n",
    "    dataset[\"Year\"] = dataset[\"Year\"].transform(\n",
    "        lambda x: datetime.date(int(x), 1, 1))\n",
    "    dataset.columns = dataset.columns.get_level_values(1)\n",
    "    dataset.columns.values[0] = \"Year\"\n",
    "    dataset.columns.values[1] = \"F\"\n",
    "    dataset = dataset.set_index(dataset.columns[0])\n",
    "    dataset = dataset.astype('float')\n",
    "    dataset = dataset.sort_values(by=['F', 'Year'])\n",
    "    return dataset\n",
    "\n",
    "\n",
    "def clean_data(dataframes):\n",
    "    clean_dataframes = []\n",
    "    for dataframe in dataframes:\n",
    "        dataframe = dataframe.drop(columns=\"Total\")\n",
    "        dataframe = long_to_wide(dataframe)\n",
    "        clean_dataframes.append(dataframe)\n",
    "    return clean_dataframes\n",
    "\n",
    "\n",
    "lt_mortality_raw, lt_deaths_raw, lt_exposure_raw, \\\n",
    "    lv_mortality_raw, lv_deaths_raw, lv_exposure_raw, \\\n",
    "    ee_mortality_raw, ee_deaths_raw, ee_exposure_raw = read_data(\n",
    "        (\n",
    "            \"./data/LT_Mx_5x1.txt\", \"./data/LT_Deaths_5x1.txt\",\n",
    "            \"./data/LT_Exposures_5x1.txt\", \"./data/LV_Mx_5x1.txt\",\n",
    "            \"./data/LV_Deaths_5x1.txt\", \"./data/LV_Exposures_5x1.txt\",\n",
    "            \"./data/EE_Mx_5x1.txt\", \"./data/EE_Deaths_5x1.txt\",\n",
    "            \"./data/EE_Exposures_5x1.txt\"\n",
    "        ))\n",
    "\n",
    "lt_mortality, lv_mortality, ee_mortality = \\\n",
    "    lt_mortality_raw.replace(\".\", None), lv_mortality_raw.replace(\".\", None), \\\n",
    "    ee_mortality_raw.replace(\".\", None)\n",
    "\n",
    "lt_mortality, lt_deaths, lt_exposure = clean_data(\n",
    "    (lt_mortality, lt_deaths_raw, lt_exposure_raw))\n",
    "\n",
    "lv_mortality, lv_deaths, lv_exposure = clean_data(\n",
    "    (lv_mortality, lv_deaths_raw, lv_exposure_raw))\n",
    "\n",
    "ee_mortality, ee_deaths, ee_exposure = clean_data(\n",
    "    (ee_mortality, ee_deaths_raw, ee_exposure_raw))\n",
    "\n",
    "lt_mortality[\"LT\"], lv_mortality[\"LV\"], ee_mortality[\"EE\"] = 1, 1, 1\n",
    "\n",
    "lt_deaths, lt_mortality, lt_exposure = \\\n",
    "    lt_deaths.drop(lt_mortality.tail(1).index), \\\n",
    "    lt_mortality.drop(lt_mortality.tail(1).index), \\\n",
    "    lt_exposure.drop(lt_mortality.tail(1).index)"
   ],
   "id": "ace217e685b78c59",
   "outputs": [],
   "execution_count": 4
  },
  {
   "metadata": {},
   "cell_type": "code",
   "outputs": [],
   "execution_count": null,
   "source": "",
   "id": "c0654540f2298219"
  }
 ],
 "metadata": {
  "kernelspec": {
   "display_name": "Python 3",
   "language": "python",
   "name": "python3"
  },
  "language_info": {
   "codemirror_mode": {
    "name": "ipython",
    "version": 2
   },
   "file_extension": ".py",
   "mimetype": "text/x-python",
   "name": "python",
   "nbconvert_exporter": "python",
   "pygments_lexer": "ipython2",
   "version": "2.7.6"
  }
 },
 "nbformat": 4,
 "nbformat_minor": 5
}
